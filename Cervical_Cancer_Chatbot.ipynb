{
  "cells": [
    {
      "cell_type": "code",
      "execution_count": null,
      "metadata": {
        "id": "BkENn65LAxp0"
      },
      "outputs": [],
      "source": [
        "#description: This is a 'smart' chatbot program"
      ]
    },
    {
      "cell_type": "code",
      "execution_count": null,
      "metadata": {
        "colab": {
          "base_uri": "https://localhost:8080/"
        },
        "id": "UeuG9t3XI303",
        "outputId": "a8cae5b4-2342-4565-d267-856f8e21dffe"
      },
      "outputs": [
        {
          "output_type": "stream",
          "name": "stdout",
          "text": [
            "Requirement already satisfied: nltk in /usr/local/lib/python3.10/dist-packages (3.8.1)\n",
            "Requirement already satisfied: click in /usr/local/lib/python3.10/dist-packages (from nltk) (8.1.7)\n",
            "Requirement already satisfied: joblib in /usr/local/lib/python3.10/dist-packages (from nltk) (1.3.2)\n",
            "Requirement already satisfied: regex>=2021.8.3 in /usr/local/lib/python3.10/dist-packages (from nltk) (2023.12.25)\n",
            "Requirement already satisfied: tqdm in /usr/local/lib/python3.10/dist-packages (from nltk) (4.66.1)\n"
          ]
        }
      ],
      "source": [
        "pip install nltk"
      ]
    },
    {
      "cell_type": "code",
      "execution_count": null,
      "metadata": {
        "id": "2qBaMWEqJQqY"
      },
      "outputs": [],
      "source": [
        "#Import the libraries\n",
        "\n",
        "\n",
        "import random\n",
        "import string\n",
        "import nltk\n",
        "from sklearn.feature_extraction.text import CountVectorizer\n",
        "from sklearn.metrics.pairwise import cosine_similarity\n",
        "\n",
        "import numpy as np\n",
        "import warnings\n",
        "warnings.filterwarnings('ignore')\n",
        "\n"
      ]
    },
    {
      "cell_type": "code",
      "execution_count": null,
      "metadata": {
        "colab": {
          "base_uri": "https://localhost:8080/"
        },
        "id": "CwA0VaKqJ0Ko",
        "outputId": "5d2841fa-7406-4c13-ee42-b9154ccfc098"
      },
      "outputs": [
        {
          "output_type": "execute_result",
          "data": {
            "text/plain": [
              "True"
            ]
          },
          "metadata": {},
          "execution_count": 9
        }
      ],
      "source": [
        "#Download the punkt package\n",
        "nltk.download('punkt', quiet=True)"
      ]
    },
    {
      "cell_type": "code",
      "execution_count": null,
      "metadata": {
        "id": "2nBjpD7WMUXH"
      },
      "outputs": [],
      "source": [
        "# Function to return a random greeting respond to users' greeting\n",
        "def greeting_response(text):\n",
        "  text = text.lower()\n",
        "\n",
        "  #Bot's greeting response\n",
        "  bot_greetings = ['Hi there!','Hello','Heyy']\n",
        "  #Users greetings\n",
        "  user_greetings = ['hi','hey','hello','greetings']\n",
        "\n",
        "  for word in text.split():\n",
        "    if word in user_greetings:\n",
        "      return random.choice(bot_greetings)\n"
      ]
    },
    {
      "cell_type": "code",
      "execution_count": null,
      "metadata": {
        "id": "O3Pc6snROKdy"
      },
      "outputs": [],
      "source": [
        "def index_sort(list_var):\n",
        "  length = len(list_var)\n",
        "  list_index = list(range(0,length))\n",
        "\n",
        "  x = list_var\n",
        "  for i in range(length):\n",
        "    for j in range(length):\n",
        "      if x[list_index[i]] > x[list_index[j]]:\n",
        "        #Swap\n",
        "        temp = list_index[i]\n",
        "        list_index[i] = list_index[j]\n",
        "        list_index[j] = temp\n",
        "\n",
        "  return list_index"
      ]
    },
    {
      "cell_type": "code",
      "execution_count": 17,
      "metadata": {
        "id": "bIm6rS0xNZpy"
      },
      "outputs": [],
      "source": [
        "\n",
        "\n",
        "# Load the dataset\n",
        "import json\n",
        "\n",
        "with open('/content/dataset.json', 'r') as file:\n",
        "    dataset = json.load(file)\n",
        "\n",
        "def bot_response(user_input):\n",
        "    # Preprocess user input\n",
        "    user_input = user_input.lower()\n",
        "\n",
        "    # Calculate similarity between user input and dataset questions\n",
        "    similarity_scores = []\n",
        "    for qa_pair in dataset:\n",
        "        question = qa_pair['question'].lower()\n",
        "        combined_text = [user_input, question]\n",
        "\n",
        "        # Convert text to vectors\n",
        "        vectorizer = CountVectorizer().fit_transform(combined_text)\n",
        "\n",
        "        # Calculate cosine similarity\n",
        "        similarity = cosine_similarity(vectorizer)\n",
        "\n",
        "        # Append similarity score\n",
        "        similarity_scores.append(similarity[0,1])\n",
        "\n",
        "    # Find the index of the most similar question\n",
        "    max_index = np.argmax(similarity_scores)\n",
        "\n",
        "    # Return the corresponding answer\n",
        "    bot_response = dataset[max_index]['answer']\n",
        "\n",
        "    return bot_response"
      ]
    },
    {
      "cell_type": "code",
      "execution_count": 22,
      "metadata": {
        "colab": {
          "base_uri": "https://localhost:8080/"
        },
        "id": "iLmkknwzPlr7",
        "outputId": "095820be-5dc3-4b7a-b9dd-2c2d81092cd4"
      },
      "outputs": [
        {
          "output_type": "stream",
          "name": "stdout",
          "text": [
            "Shielder: I am the Cervical-Shield 🎗️, How can I help you today?\n",
            "hii\n",
            "Shielder: Cervical cancer is a type of cancer that occurs in the cells of the cervix, the lower part of the uterus that connects to the vagina.\n",
            "my name is sneha\n",
            "Shielder: Nice to meet you, sneha. How can I assist you?\n",
            "done\n",
            "Shielder: Cervical cancer is a type of cancer that occurs in the cells of the cervix, the lower part of the uterus that connects to the vagina.\n",
            "exit\n",
            "Shielder: Chat with you later!\n"
          ]
        }
      ],
      "source": [
        "import re\n",
        "import random\n",
        "\n",
        "print('Shielder: I am the Cervical-Shield 🎗️, How can I help you today?')\n",
        "\n",
        "def greeting_response(user_input):\n",
        "    greetings = ['hello', 'hi', 'hey', 'howdy', 'hola', 'hii']\n",
        "    user_input = user_input.lower()\n",
        "    for word in user_input.split():\n",
        "        if word in greetings:\n",
        "            return random.choice(greetings) + '. How can I assist you today?'\n",
        "    return None\n",
        "\n",
        "def handle_name_input(user_input):\n",
        "    name_pattern = r\"my name is (\\w+)\"\n",
        "    match = re.search(name_pattern, user_input.lower())\n",
        "    if match:\n",
        "        return f\"Nice to meet you, {match.group(1)}. How can I assist you?\"\n",
        "    return None\n",
        "\n",
        "exit_list = ['exit', ' see you later', 'bye', 'quit', 'break', 'done']\n",
        "\n",
        "while True:\n",
        "    user_input = input()\n",
        "    if user_input.lower() in exit_list:\n",
        "        print('Shielder: Chat with you later!')\n",
        "        break\n",
        "    else:\n",
        "        greeting = greeting_response(user_input)\n",
        "        if greeting is not None:\n",
        "            print('Shielder: ' + greeting)\n",
        "        else:\n",
        "            name_response = handle_name_input(user_input)\n",
        "            if name_response is not None:\n",
        "                print('Shielder: ' + name_response)\n",
        "            else:\n",
        "                print('Shielder: ' + bot_response(user_input))  # Assuming bot_response function is defined elsewhere\n"
      ]
    }
  ],
  "metadata": {
    "colab": {
      "provenance": []
    },
    "kernelspec": {
      "display_name": "Python 3",
      "name": "python3"
    },
    "language_info": {
      "name": "python"
    }
  },
  "nbformat": 4,
  "nbformat_minor": 0
}